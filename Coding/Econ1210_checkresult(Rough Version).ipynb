{
 "cells": [
  {
   "cell_type": "code",
   "execution_count": 13,
   "id": "a1f02079",
   "metadata": {
    "ExecuteTime": {
     "end_time": "2022-12-14T15:20:56.621501Z",
     "start_time": "2022-12-14T15:20:35.564320Z"
    }
   },
   "outputs": [
    {
     "name": "stdout",
     "output_type": "stream",
     "text": [
      "filename of your ans: Final3035779.xlsx\n",
      "Your UID: *‌*********\n",
      "----------------------------------------\n",
      "Print Wrong Mismatched Answers\n",
      "----------------------------------------\n",
      "C D\n",
      "nan B\n",
      "35.86 1.0\n",
      "36.68 2.68\n",
      "3.66 7.55\n",
      "nan 71.9\n",
      "nan 39.94\n",
      "nan 1116.89\n",
      "5.0 28.8\n",
      "12.0 52.32\n",
      "7.0 0.0\n",
      "4.0 8.0\n",
      "9.3 9.5\n",
      "12.3 12.5\n",
      "45.0 60.68\n",
      "45.0 60.68\n",
      "6.0 110.0\n",
      "128.0 920.45\n",
      "17850.63 17850.62\n",
      "----------------------------------------\n",
      "Rough result: 70.73239436619718\n"
     ]
    }
   ],
   "source": [
    "import pandas as pd\n",
    "import numpy as np\n",
    "import io\n",
    "import sys\n",
    "import maskpass\n",
    "\n",
    "a=input(\"filename of your ans: \")\n",
    "c = maskpass.advpass(\"Your UID: \")\n",
    "\n",
    "excel1 = pd.read_excel(\"Sources/\"+a)\n",
    "excel2 = pd.read_excel(\"Sources/Finalanswers-release.xlsx\")\n",
    "\n",
    "MyAns=excel1.iloc[:-1,[1]].astype(str)\n",
    "ModelAns=excel2.iloc[4:,[3]].reset_index().iloc[:,[1]]\n",
    "\n",
    "def f(x):\n",
    "    try:\n",
    "        return round(float(x), 2)\n",
    "    except:\n",
    "        return x\n",
    "ModelAns = ModelAns.applymap(f).astype(str)\n",
    "\n",
    "MyAns = MyAns.applymap(f).astype(str)\n",
    "\n",
    "a=MyAns[c].tolist()\n",
    "b=ModelAns['Unnamed: 3'].astype(str).tolist()\n",
    "count=0\n",
    "\n",
    "print(\"--\"*20)\n",
    "print(\"Print Wrong Mismatched Answers\")\n",
    "print(\"--\"*20)\n",
    "for i in range(len(a)):\n",
    "    if a[i]==b[i]:\n",
    "        count+=1\n",
    "            \n",
    "    else:\n",
    "        print(a[i],b[i])\n",
    "\n",
    "print(\"--\"*20)\n",
    "print(\"Rough result:\",(71-(len(a)-count)/71))"
   ]
  }
 ],
 "metadata": {
  "kernelspec": {
   "display_name": "Python 3 (ipykernel)",
   "language": "python",
   "name": "python3"
  },
  "language_info": {
   "codemirror_mode": {
    "name": "ipython",
    "version": 3
   },
   "file_extension": ".py",
   "mimetype": "text/x-python",
   "name": "python",
   "nbconvert_exporter": "python",
   "pygments_lexer": "ipython3",
   "version": "3.9.12"
  },
  "toc": {
   "base_numbering": 1,
   "nav_menu": {},
   "number_sections": true,
   "sideBar": true,
   "skip_h1_title": false,
   "title_cell": "Table of Contents",
   "title_sidebar": "Contents",
   "toc_cell": false,
   "toc_position": {},
   "toc_section_display": true,
   "toc_window_display": false
  }
 },
 "nbformat": 4,
 "nbformat_minor": 5
}
